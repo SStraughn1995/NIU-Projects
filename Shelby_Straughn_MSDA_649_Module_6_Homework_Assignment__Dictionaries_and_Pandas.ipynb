{
  "nbformat": 4,
  "nbformat_minor": 0,
  "metadata": {
    "colab": {
      "provenance": [],
      "toc_visible": true,
      "include_colab_link": true
    },
    "kernelspec": {
      "name": "python3",
      "display_name": "Python 3"
    },
    "language_info": {
      "name": "python"
    }
  },
  "cells": [
    {
      "cell_type": "markdown",
      "metadata": {
        "id": "view-in-github",
        "colab_type": "text"
      },
      "source": [
        "<a href=\"https://colab.research.google.com/github/SStraughn1995/NIU-Projects/blob/main/Shelby_Straughn_MSDA_649_Module_6_Homework_Assignment__Dictionaries_and_Pandas.ipynb\" target=\"_parent\"><img src=\"https://colab.research.google.com/assets/colab-badge.svg\" alt=\"Open In Colab\"/></a>"
      ]
    },
    {
      "cell_type": "markdown",
      "source": [
        "# **MSDA 649 Homework Assignment - Module 6**\n",
        "\n"
      ],
      "metadata": {
        "id": "ktYiLe7fN3b_"
      }
    },
    {
      "cell_type": "markdown",
      "source": [
        "### **Practice 1: Motivation for dictionaries**\n",
        "\n",
        "To see why dictionaries are useful, have a look at the two lists defined in the workspace below. `countries` contains the names of some European countries. `capitals` lists the corresponding names of their capital.\n",
        "\n",
        "### **Tasks:**\n",
        "\n",
        "*  Use the `index() `method on `countries` to find the index of `'germany'`. Store this index as `ind_ger`.\n",
        "*  Use `ind_ger` to access the capital of Germany from the `capitals` list. Print it out."
      ],
      "metadata": {
        "id": "xCXBTwS4VJd6"
      }
    },
    {
      "cell_type": "code",
      "source": [
        "# Definition of countries and capital\n",
        "countries = ['spain', 'france', 'germany', 'norway']\n",
        "capitals = ['madrid', 'paris', 'berlin', 'oslo']\n",
        "\n",
        "# Get index of 'germany': ind_ger\n",
        "ind_ger=countries.index('germany')\n",
        "\n",
        "# Use ind_ger to print out capital of Germany\n",
        "print(capitals[ind_ger])"
      ],
      "metadata": {
        "id": "07ggBemVWrI2",
        "colab": {
          "base_uri": "https://localhost:8080/"
        },
        "outputId": "b01f0b1a-6898-487a-c2ba-f3df4a4cf710"
      },
      "execution_count": null,
      "outputs": [
        {
          "output_type": "stream",
          "name": "stdout",
          "text": [
            "berlin\n"
          ]
        }
      ]
    },
    {
      "cell_type": "markdown",
      "source": [
        "### **Practice 2: Create dictionary**\n",
        "\n",
        "The `countries` and `capitals` lists are again available in the script below. It's your job to convert this data to a dictionary where the country names are the keys and the capitals are the corresponding values. As a refresher, here is a recipe for creating a dictionary:\n",
        "\n",
        "```\n",
        "my_dict = {\n",
        "   \"key1\":\"value1\",\n",
        "   \"key2\":\"value2\",\n",
        "}\n",
        "```\n",
        "\n",
        "In this recipe, both the keys and the values are strings. This will also be the case for this exercise.\n",
        "\n",
        "### **Tasks:**\n",
        "\n",
        "*  With the strings in `countries` and `capitals`, create a dictionary called `europe` with 4 key:value pairs. Beware of capitalization! Make sure you use lowercase characters everywhere.\n",
        "*  Print out `europe` to see if the result is what you expected."
      ],
      "metadata": {
        "id": "dEYu7jq2XHKk"
      }
    },
    {
      "cell_type": "code",
      "source": [
        "# Definition of countries and capital\n",
        "countries = ['spain', 'france', 'germany', 'norway']\n",
        "capitals = ['madrid', 'paris', 'berlin', 'oslo']\n",
        "\n",
        "# From string in countries and capitals, create dictionary europe\n",
        "europe = {'spain':'madrid',\n",
        "          'france':'paris',\n",
        "          'germany':'berlin',\n",
        "          'norway':'oslo'\n",
        " }\n",
        "\n",
        "# Print europe\n",
        "print(europe)\n"
      ],
      "metadata": {
        "id": "UAx1WyZdZ7TG",
        "colab": {
          "base_uri": "https://localhost:8080/"
        },
        "outputId": "2526582d-71d8-42e4-fb16-e822b6f0af90"
      },
      "execution_count": 1,
      "outputs": [
        {
          "output_type": "stream",
          "name": "stdout",
          "text": [
            "{'spain': 'madrid', 'france': 'paris', 'germany': 'berlin', 'norway': 'oslo'}\n"
          ]
        }
      ]
    },
    {
      "cell_type": "markdown",
      "source": [
        "### **Practice 3: Access dictionary**\n",
        "\n",
        "If the keys of a dictionary are chosen wisely, accessing the values in a dictionary is easy and intuitive. For example, to get the capital for France from europe you can use:\n",
        "\n",
        "```\n",
        "europe['france']\n",
        "```\n",
        "\n",
        "Here, `'france'` is the key and `'paris'` the value is returned.\n",
        "\n",
        "### **Tasks:**\n",
        "\n",
        "*  Check out which keys are in `europe` by calling the `keys()` method on `europe`. Print out the result.\n",
        "*  Print out the value that belongs to the key `'norway'`."
      ],
      "metadata": {
        "id": "i8dZ4MN8aPIY"
      }
    },
    {
      "cell_type": "code",
      "source": [
        "# Definition of dictionary\n",
        "europe = {'spain':'madrid', 'france':'paris', 'germany':'berlin', 'norway':'oslo' }\n",
        "\n",
        "# Print out the keys in europe\n",
        "print(europe.keys())\n",
        "\n",
        "# Print out value that belongs to key 'norway'\n",
        "print(europe['norway'])\n"
      ],
      "metadata": {
        "id": "a4URYO4VaxRv",
        "colab": {
          "base_uri": "https://localhost:8080/"
        },
        "outputId": "f5f44bc3-dd7e-44b8-aeec-839d7bfb7373"
      },
      "execution_count": 3,
      "outputs": [
        {
          "output_type": "stream",
          "name": "stdout",
          "text": [
            "dict_keys(['spain', 'france', 'germany', 'norway'])\n",
            "oslo\n"
          ]
        }
      ]
    },
    {
      "cell_type": "markdown",
      "source": [],
      "metadata": {
        "id": "0VUnWPB1sK2C"
      }
    },
    {
      "cell_type": "markdown",
      "source": [
        "### **Practice 4: Dictionary Manipulation (1)**\n",
        "\n",
        "If you know how to access a dictionary, you can also assign a new value to it. To add a new key-value pair to `europe` you can use something like this:\n",
        "\n",
        "```\n",
        "europe['iceland'] = 'reykjavik'\n",
        "```\n",
        "\n",
        "### **Tasks:**\n",
        "\n",
        "*  Add the key `'italy'` with the value `'rome'` to `europe`.\n",
        "*  To assert that `'italy'` is now a key in `europe`, print out `'italy' in europe`. (Hint: the print output should be a **boolean value 'True'** indicating `'italy'` is a key in disctionary `europe`)  \n",
        "*   Add another key:value pair to `europe` : `'poland'` is the key, `'warsaw'` is the corresponding value.\n",
        "*   Print out `europe`.\n",
        "\n"
      ],
      "metadata": {
        "id": "L2MquF9ObaVa"
      }
    },
    {
      "cell_type": "code",
      "source": [
        "# Definition of dictionary\n",
        "europe = {'spain':'madrid', 'france':'paris', 'germany':'berlin', 'norway':'oslo' }\n",
        "\n",
        "# Add italy to europe\n",
        "europe['italy'] = 'rome'\n",
        "\n",
        "# Print out 'italy' in europe\n",
        "print('italy' in europe)\n",
        "\n",
        "# Add poland to europe\n",
        "europe['poland']='warsaw'\n",
        "\n",
        "# Print europe\n",
        "print(europe)"
      ],
      "metadata": {
        "id": "rpTfTrXVcWFm",
        "colab": {
          "base_uri": "https://localhost:8080/"
        },
        "outputId": "4b53cb22-eb89-41fc-8e38-a49f47015b71"
      },
      "execution_count": 12,
      "outputs": [
        {
          "output_type": "stream",
          "name": "stdout",
          "text": [
            "True\n",
            "{'spain': 'madrid', 'france': 'paris', 'germany': 'berlin', 'norway': 'oslo', 'italy': 'rome', 'poland': 'warsaw'}\n"
          ]
        }
      ]
    },
    {
      "cell_type": "markdown",
      "source": [
        "### **Practice 5: Dictionary Manipulation (2)**\n",
        "\n",
        "Somebody thought it would be funny to mess with your accurately generated dictionary. An adapted version of the `europe` dictionary is available in the script below.\n",
        "\n",
        "Can you clean up? Do not do this by adapting the definition of `europe`, but by adding Python commands to the script to update and remove key:value pairs.\n",
        "\n",
        "### **Tasks:**\n",
        "\n",
        "*  The capital of Germany is not `'bonn'`; it's `'berlin'`. Update its value.\n",
        "*  Australia is not in Europe, Austria is! Remove the key `'australia'` from `europe`.\n",
        "*  Print out `europe` to see if your cleaning work paid off."
      ],
      "metadata": {
        "id": "cZuncqgTd7BW"
      }
    },
    {
      "cell_type": "code",
      "source": [
        "# Definition of dictionary\n",
        "europe = {'spain':'madrid', 'france':'paris', 'germany':'bonn',\n",
        "          'norway':'oslo', 'italy':'rome', 'poland':'warsaw',\n",
        "          'australia':'vienna' }\n",
        "\n",
        "# Update capital of germany\n",
        "europe['germany']='berlin'\n",
        "\n",
        "# Remove australia\n",
        "del(europe['australia'])\n",
        "\n",
        "# Print europe\n",
        "print(europe)"
      ],
      "metadata": {
        "id": "t_4dOVFJemAe",
        "colab": {
          "base_uri": "https://localhost:8080/"
        },
        "outputId": "550f7731-6540-43c7-b284-15d7947158a4"
      },
      "execution_count": 13,
      "outputs": [
        {
          "output_type": "stream",
          "name": "stdout",
          "text": [
            "{'spain': 'madrid', 'france': 'paris', 'germany': 'berlin', 'norway': 'oslo', 'italy': 'rome', 'poland': 'warsaw'}\n"
          ]
        }
      ]
    },
    {
      "cell_type": "markdown",
      "source": [
        "### **Practice 6: Dictionariception**\n",
        "\n",
        "Remember lists? They could contain anything, even other lists. Well, for dictionaries the same holds. Dictionaries can contain key:value pairs where the values are again dictionaries.\n",
        "\n",
        "As an example, have a look at the Python script in the workspace below where another version of `europe` - the dictionary you've been working with all along - is coded. The **keys** are still the country names, but the **values** are dictionaries that contain more information than just the capital.\n",
        "\n",
        "It's perfectly possible to chain square brackets to select elements. To fetch the population for Spain from europe, for example, you need:\n",
        "\n",
        "```\n",
        "europe['spain']['population']\n",
        "```\n",
        "\n",
        "### **Tasks:**\n",
        "\n",
        "*  Use chained square brackets to select and print out the capital of France.\n",
        "*  Create a sub-dictionary, named `data`, with the keys `'capital'` and `'population'`. Set them to `'rome'` and `59.83`, respectively.\n",
        "*  Add a new key-value pair to `europe`; the key is `'italy'` and the value is `data`, the dictionary you just built."
      ],
      "metadata": {
        "id": "HE-nlVnf-rRY"
      }
    },
    {
      "cell_type": "code",
      "source": [
        "# Dictionary of dictionaries\n",
        "europe = { 'spain': { 'capital':'madrid', 'population':46.77 },\n",
        "           'france': { 'capital':'paris', 'population':66.03 },\n",
        "           'germany': { 'capital':'berlin', 'population':80.62 },\n",
        "           'norway': { 'capital':'oslo', 'population':5.084 } }\n",
        "\n",
        "\n",
        "# Print out the capital of France\n",
        "print(europe['france']['capital'])\n",
        "\n",
        "# Create sub-dictionary data\n",
        "data = {'capital':'rome', 'population':59.83}\n",
        "\n",
        "# Add data to europe under key 'italy'\n",
        "europe['italy']=data\n",
        "\n",
        "# Print europe\n",
        "print(europe)\n"
      ],
      "metadata": {
        "id": "b-HYUq03ABw5",
        "colab": {
          "base_uri": "https://localhost:8080/"
        },
        "outputId": "c101ceb0-db48-4184-efaa-aa84fb98fb9e"
      },
      "execution_count": 17,
      "outputs": [
        {
          "output_type": "stream",
          "name": "stdout",
          "text": [
            "paris\n",
            "{'spain': {'capital': 'madrid', 'population': 46.77}, 'france': {'capital': 'paris', 'population': 66.03}, 'germany': {'capital': 'berlin', 'population': 80.62}, 'norway': {'capital': 'oslo', 'population': 5.084}, 'italy': {'capital': 'rome', 'population': 59.83}}\n"
          ]
        }
      ]
    },
    {
      "cell_type": "markdown",
      "source": [
        "### **Practice 7: Dictionary to DataFrame (1)**\n",
        "\n",
        "Pandas is an open source library, providing high-performance, easy-to-use data structures and data analysis tools for Python.\n",
        "\n",
        "The DataFrame is one of Pandas' most important data structures. It's basically a way to store **tabular** data where you can label the rows and the columns. One way to build a DataFrame is from a dictionary.\n",
        "\n",
        "In the exercises that follow you will be working with vehicle data from different countries. Each observation corresponds to a country and the columns give information about the number of vehicles per capita, whether people drive left or right, and so on.\n",
        "\n",
        "Three lists are defined for you in the script below:\n",
        "\n",
        "*   `names`, containing the country names for which data is available.\n",
        "*   `dr`, a list with booleans that tells whether people drive left or right in the corresponding country.\n",
        "*   `cpc`, the number of motor vehicles per 1000 people in the corresponding country.\n",
        "\n",
        "Each dictionary key is a column label and each value is a list which contains the column elements.\n",
        "\n",
        "### **Tasks:**\n",
        "\n",
        "*  Import pandas as pd.\n",
        "*  Use the pre-defined lists to create a dictionary called `my_dict`. There should be three key value pairs:\n",
        "  *   key `'country'` and value `names`.\n",
        "  *   key `'drives_right'` and value `dr`.\n",
        "  *   key `'cars_per_cap'` and value `cpc`.\n",
        "\n",
        "*  Use **`pd.DataFrame()`** to turn your dict into a DataFrame called `cars`.\n",
        "*  Print out `cars` and see how beautiful it is.\n",
        "\n",
        "Click on the link to read more about [DataFrame](https://pandas.pydata.org/docs/reference/api/pandas.DataFrame.html) in pandas."
      ],
      "metadata": {
        "id": "okWdvRy0BunN"
      }
    },
    {
      "cell_type": "code",
      "source": [
        "# Pre-defined lists\n",
        "names = ['United States', 'Australia', 'Japan', 'India', 'Russia', 'Morocco', 'Egypt']\n",
        "dr =  [True, False, False, False, True, True, True]\n",
        "cpc = [809, 731, 588, 18, 200, 70, 45]\n",
        "\n",
        "# Import pandas as pd\n",
        "import pandas as pd\n",
        "\n",
        "# Create dictionary my_dict with three key:value pairs: my_dict\n",
        "my_dict = {'country':names,'drives_right':dr,'cars_per_cap':cpc}\n",
        "\n",
        "# Build a DataFrame cars from my_dict: cars\n",
        "cars=pd.DataFrame(my_dict)\n",
        "\n",
        "# Print cars\n",
        "print(cars)"
      ],
      "metadata": {
        "id": "GM-UwyOJDX8e",
        "colab": {
          "base_uri": "https://localhost:8080/"
        },
        "outputId": "3c70bf6a-d3d5-4b23-8eda-17ec0ed4dfeb"
      },
      "execution_count": 1,
      "outputs": [
        {
          "output_type": "stream",
          "name": "stdout",
          "text": [
            "         country  drives_right  cars_per_cap\n",
            "0  United States          True           809\n",
            "1      Australia         False           731\n",
            "2          Japan         False           588\n",
            "3          India         False            18\n",
            "4         Russia          True           200\n",
            "5        Morocco          True            70\n",
            "6          Egypt          True            45\n"
          ]
        }
      ]
    },
    {
      "cell_type": "markdown",
      "source": [
        "### **Practice 8: Dictionary to DataFrame (2)**\n",
        "\n",
        "The Python code that solves the previous exercise is included in the script below. Have you noticed that the row labels (i.e. the labels for the different observations) were automatically set to integers from 0 up to 6?\n",
        "\n",
        "To solve this, a list row_labels has been created for you. You can use it to specify the row labels of the `cars` DataFrame. You do this by setting the `index` attribute of `cars`, that you can access as `cars.index`.\n",
        "\n",
        "### **Tasks:**\n",
        "\n",
        "*  Hit Run button to see the output, indeed, the row labels are not correctly set.\n",
        "*  Specify the row labels by setting `cars.index` equal to `row_labels`.\n",
        "\n",
        "*  Print out `cars` again and check if the row labels are correct this time."
      ],
      "metadata": {
        "id": "dfEszW2WEUzm"
      }
    },
    {
      "cell_type": "code",
      "source": [
        "import pandas as pd\n",
        "\n",
        "# Build cars DataFrame\n",
        "names = ['United States', 'Australia', 'Japan', 'India', 'Russia', 'Morocco', 'Egypt']\n",
        "dr =  [True, False, False, False, True, True, True]\n",
        "cpc = [809, 731, 588, 18, 200, 70, 45]\n",
        "cars_dict = { 'country':names, 'drives_right':dr, 'cars_per_cap':cpc }\n",
        "cars = pd.DataFrame(cars_dict)\n",
        "print(cars)\n",
        "\n",
        "# Definition of row_labels\n",
        "row_labels = ['US', 'AUS', 'JPN', 'IN', 'RU', 'MOR', 'EG']\n",
        "\n",
        "# Specify row labels of cars\n",
        "cars.index = row_labels\n",
        "\n",
        "# Print cars again\n",
        "print(cars)\n"
      ],
      "metadata": {
        "id": "pFYmQ0hAFUsN",
        "colab": {
          "base_uri": "https://localhost:8080/"
        },
        "outputId": "1ce133d0-49bf-45e8-e4f2-f7b1f92afdfb"
      },
      "execution_count": 3,
      "outputs": [
        {
          "output_type": "stream",
          "name": "stdout",
          "text": [
            "         country  drives_right  cars_per_cap\n",
            "0  United States          True           809\n",
            "1      Australia         False           731\n",
            "2          Japan         False           588\n",
            "3          India         False            18\n",
            "4         Russia          True           200\n",
            "5        Morocco          True            70\n",
            "6          Egypt          True            45\n",
            "           country  drives_right  cars_per_cap\n",
            "US   United States          True           809\n",
            "AUS      Australia         False           731\n",
            "JPN          Japan         False           588\n",
            "IN           India         False            18\n",
            "RU          Russia          True           200\n",
            "MOR        Morocco          True            70\n",
            "EG           Egypt          True            45\n"
          ]
        }
      ]
    },
    {
      "cell_type": "markdown",
      "source": [
        "### **Practice 9: CSV to DataFrame (1)**\n",
        "\n",
        "Putting data in a dictionary and then building a DataFrame works, but it's not very efficient. What if you're dealing with millions of observations? In those cases, the data is typically available as files with a regular structure. One of those file types is the CSV file, which is short for \"comma-separated values\".\n",
        "\n",
        "To import CSV data into Python as a Pandas DataFrame you can use **`read_csv()`**.\n",
        "\n",
        "Let's explore this function with the same cars data from the previous exercises. This time, however, the data is available in a CSV file, named `cars.csv` that I stored on GitHub. It is available under the url link specified in the script below, so the path to the file is simply `url`. And you can use the following code as a reference to import the csv data into Python.\n",
        "\n",
        "```\n",
        "url = 'copied_raw_GitHub_link'\n",
        "df1 = pd.read_csv(url)\n",
        "# Dataset is now stored in a Pandas Dataframe named df1\n",
        "\n",
        "```\n",
        "\n",
        "### **Tasks:**\n",
        "\n",
        "*  To import CSV files you still need the `pandas` package: import it as `pd`.\n",
        "*  Use **`pd.read_csv()`** to import `cars.csv` data as a DataFrame. Store this DataFrame as `cars`.\n",
        "*  Print out `cars`. Does everything look OK?"
      ],
      "metadata": {
        "id": "i8agFgDRFsOJ"
      }
    },
    {
      "cell_type": "code",
      "source": [
        "url='https://raw.githubusercontent.com/mileslyp/MSDA649/main/cars.csv'\n",
        "\n",
        "# Import pandas as pd\n",
        "import pandas as pd\n",
        "\n",
        "# Import the cars.csv file from GitHub url link and store the data as a Pandas Dataframe: cars\n",
        "cars = pd.read_csv(url)\n",
        "\n",
        "# Print out cars\n",
        "print(cars)"
      ],
      "metadata": {
        "id": "HZmp-AmFJ8g2",
        "colab": {
          "base_uri": "https://localhost:8080/"
        },
        "outputId": "d3f23eaf-f44a-455c-e37e-5bc4339d7acf"
      },
      "execution_count": 8,
      "outputs": [
        {
          "output_type": "stream",
          "name": "stdout",
          "text": [
            "  Unnamed: 0  cars_per_cap        country  drives_right\n",
            "0         US           809  United States          True\n",
            "1        AUS           731      Australia         False\n",
            "2        JPN           588          Japan         False\n",
            "3         IN            18          India         False\n",
            "4         RU           200         Russia          True\n",
            "5        MOR            70        Morocco          True\n",
            "6         EG            45          Egypt          True\n"
          ]
        }
      ]
    },
    {
      "cell_type": "code",
      "source": [
        "\"Does everything look OK?\"\n",
        "Answer = \"Not entirely. We have an unnamed column of the country abbreviations. These abbreviations should be used for the row labels.\""
      ],
      "metadata": {
        "id": "n2QmgZ68DCdG"
      },
      "execution_count": null,
      "outputs": []
    },
    {
      "cell_type": "markdown",
      "source": [
        "### **Practice 10: CSV to DataFrame (2)**\n",
        "\n",
        "Your `read_csv()` call to import the CSV data didn't generate an error, but the output is not entirely what we wanted. The row labels were imported as another column without a name.\n",
        "\n",
        "Remember `index_col`, an argument of **`read_csv()`**, that you can use to specify which column in the CSV file should be used as a row label? Well, that's exactly what you need here!\n",
        "\n",
        "Continue working on the Python code that solves the previous exercise; can you make the appropriate changes to fix the data import?\n",
        "\n",
        "### **Tasks:**\n",
        "\n",
        "* Specify the `index_col` argument inside **`pd.read_csv()`**: set it to `0`, so that the first column is used as row labels.\n",
        "*  Use **`pd.read_csv()`** to import `cars.csv` data as a DataFrame. Store this DataFrame as `cars`.\n",
        "*  Print out `cars`. Does everything look OK now?"
      ],
      "metadata": {
        "id": "7jmAzKFlNQo4"
      }
    },
    {
      "cell_type": "code",
      "source": [
        "url='https://raw.githubusercontent.com/mileslyp/MSDA649/main/cars.csv'\n",
        "\n",
        "# Import pandas as pd\n",
        "import pandas as pd\n",
        "\n",
        "# Fix import by including index_col argument inside pd.read_csv() and set it to 0\n",
        "cars = pd.read_csv(url, index_col=0)\n",
        "\n",
        "# Print out cars\n",
        "print(cars)"
      ],
      "metadata": {
        "id": "ugX626XaOOvz",
        "colab": {
          "base_uri": "https://localhost:8080/"
        },
        "outputId": "554d8ea4-2a72-47c6-c7dd-87fc1ec14b32"
      },
      "execution_count": 9,
      "outputs": [
        {
          "output_type": "stream",
          "name": "stdout",
          "text": [
            "     cars_per_cap        country  drives_right\n",
            "US            809  United States          True\n",
            "AUS           731      Australia         False\n",
            "JPN           588          Japan         False\n",
            "IN             18          India         False\n",
            "RU            200         Russia          True\n",
            "MOR            70        Morocco          True\n",
            "EG             45          Egypt          True\n"
          ]
        }
      ]
    },
    {
      "cell_type": "code",
      "source": [
        "\"Does everything look OK now?\"\n",
        "Answer = \"Yes, the country abbreviations are now being used as row indexes and not being considered a column name.\""
      ],
      "metadata": {
        "id": "oOE5SCWzDIGs"
      },
      "execution_count": null,
      "outputs": []
    },
    {
      "cell_type": "markdown",
      "source": [
        "### **Practice 11: Square Brackets (1)**\n",
        "\n",
        "In the module presentation, you saw that you can index and select Pandas DataFrames in many different ways. The simplest, but not the most powerful way, is to use square brackets.\n",
        "\n",
        "In the sample code, the same cars data is imported from a CSV files as a Pandas DataFrame. To select only the `cars_per_cap` column from cars, you can use:\n",
        "\n",
        "```\n",
        "cars['cars_per_cap']\n",
        "cars[['cars_per_cap']]\n",
        "```\n",
        "The single bracket version gives a Pandas Series, the double bracket version gives a Pandas DataFrame.\n",
        "\n",
        "### **Tasks:**\n",
        "\n",
        "* Use single square brackets to print out the `country` column of `cars` as a Pandas Series.\n",
        "* Use double square brackets to print out the `country` column of `cars` as a Pandas DataFrame.\n",
        "* Use double square brackets to print out a DataFrame with both the `country` and `drives_right` columns of `cars`, in this order. (Hint: For the third printout, use `cars[['country', 'drives_right']]` in order to select the correct elements.)\n"
      ],
      "metadata": {
        "id": "8nQTpEkpOqUO"
      }
    },
    {
      "cell_type": "code",
      "source": [
        "url='https://raw.githubusercontent.com/mileslyp/MSDA649/main/cars.csv'\n",
        "\n",
        "# Import cars data\n",
        "import pandas as pd\n",
        "cars = pd.read_csv(url, index_col = 0)\n",
        "\n",
        "# Print out country column as Pandas Series\n",
        "print(cars['country'])\n",
        "\n",
        "# Print out country column as Pandas DataFrame\n",
        "print(cars[['country']])\n",
        "\n",
        "# Print out DataFrame with country and drives_right columns\n",
        "print(cars[['country','drives_right']])\n"
      ],
      "metadata": {
        "id": "Tupfw4xWPppS",
        "colab": {
          "base_uri": "https://localhost:8080/"
        },
        "outputId": "00a56a05-cd34-420c-eee5-8cf2061b59ea"
      },
      "execution_count": 5,
      "outputs": [
        {
          "output_type": "stream",
          "name": "stdout",
          "text": [
            "US     United States\n",
            "AUS        Australia\n",
            "JPN            Japan\n",
            "IN             India\n",
            "RU            Russia\n",
            "MOR          Morocco\n",
            "EG             Egypt\n",
            "Name: country, dtype: object\n",
            "           country\n",
            "US   United States\n",
            "AUS      Australia\n",
            "JPN          Japan\n",
            "IN           India\n",
            "RU          Russia\n",
            "MOR        Morocco\n",
            "EG           Egypt\n",
            "           country  drives_right\n",
            "US   United States          True\n",
            "AUS      Australia         False\n",
            "JPN          Japan         False\n",
            "IN           India         False\n",
            "RU          Russia          True\n",
            "MOR        Morocco          True\n",
            "EG           Egypt          True\n"
          ]
        }
      ]
    },
    {
      "cell_type": "markdown",
      "source": [
        "### **Practice 12: Square Brackets (2)**\n",
        "\n",
        "Square brackets can do more than just selecting columns. You can also use them to get rows, or observations, from a DataFrame. The following call selects the first five rows from the `cars` DataFrame:\n",
        "\n",
        "```\n",
        "cars[0:5]\n",
        "```\n",
        "The result is another DataFrame containing only the rows you specified.\n",
        "\n",
        "Pay attention: You can only select **rows** using square brackets if you specify a slice, like `0:4`. Also, you're using the integer indexes of the rows here, **not the row labels**! Similar to Python lists, the starting index value is inclusive and the **ending index value is exclusive**.  \n",
        "\n",
        "### **Tasks:**\n",
        "\n",
        "* Select the first 3 observations from `cars` and print them out.\n",
        "* Select the **fourth**, **fifth** and **sixth** observation, corresponding to row indexes **3**, **4** and **5**, and print them out."
      ],
      "metadata": {
        "id": "Ams4spuFdZgL"
      }
    },
    {
      "cell_type": "code",
      "source": [
        "url='https://raw.githubusercontent.com/mileslyp/MSDA649/main/cars.csv'\n",
        "\n",
        "# Import cars data\n",
        "import pandas as pd\n",
        "cars = pd.read_csv(url, index_col = 0)\n",
        "\n",
        "# Print out first 3 observations\n",
        "print(cars[0:3])\n",
        "\n",
        "# Print out fourth, fifth and sixth observation\n",
        "print(cars[3:6])\n"
      ],
      "metadata": {
        "id": "-neiUvlHeYQ8",
        "colab": {
          "base_uri": "https://localhost:8080/"
        },
        "outputId": "4b46f1d5-157c-4af0-e96c-d12e6273a3de"
      },
      "execution_count": 7,
      "outputs": [
        {
          "output_type": "stream",
          "name": "stdout",
          "text": [
            "     cars_per_cap        country  drives_right\n",
            "US            809  United States          True\n",
            "AUS           731      Australia         False\n",
            "JPN           588          Japan         False\n",
            "     cars_per_cap  country  drives_right\n",
            "IN             18    India         False\n",
            "RU            200   Russia          True\n",
            "MOR            70  Morocco          True\n"
          ]
        }
      ]
    },
    {
      "cell_type": "markdown",
      "source": [
        "### **Practice 13: loc and iloc (1)**\n",
        "\n",
        "With **`loc`** and **`iloc`** you can do practically any data selection operation on DataFrames you can think of. **`loc`** is label-based, which means that you have to specify rows and columns based on their row and column labels. **`iloc`** is integer index based, so you have to specify rows and columns by their integer index like you did in the previous exercise.\n",
        "\n",
        "Try out the following commands in the workspace below to experiment with **`loc`** and **`iloc`** to select observations. Each pair of commands here gives the same result.\n",
        "\n",
        "```\n",
        "cars.loc['RU']\n",
        "cars.iloc[4]\n",
        "\n",
        "cars.loc[['RU']]\n",
        "cars.iloc[[4]]\n",
        "\n",
        "cars.loc[['RU', 'AUS']]\n",
        "cars.iloc[[4, 1]]\n",
        "```\n",
        "As before, code is included that imports the cars data as a Pandas DataFrame.\n",
        "\n",
        "Click on the link to read more about indexing and selecting data using [loc](https://pandas.pydata.org/pandas-docs/stable/user_guide/indexing.html) and [iloc](https://pandas.pydata.org/pandas-docs/stable/user_guide/indexing.html).\n",
        "\n",
        "### **Tasks:**\n",
        "\n",
        "* Use **`loc`** or **`iloc`** to select the observation corresponding to Japan as a Series. The label of this row is `JPN`, the index is `2`. Make sure to print the resulting **Series**. (Hint: use **single square bracket** for series and double square brackets for Dataframe)\n",
        "* Use **`loc`** or **`iloc`** to select the observations for Australia and Egypt as a **DataFrame**. You can find out about the labels/indexes of these rows by inspecting `cars` in the workspace below. Make sure to print the resulting DataFrame."
      ],
      "metadata": {
        "id": "3QHTGivge7c1"
      }
    },
    {
      "cell_type": "code",
      "source": [
        "url='https://raw.githubusercontent.com/mileslyp/MSDA649/main/cars.csv'\n",
        "\n",
        "# Import cars data\n",
        "import pandas as pd\n",
        "cars = pd.read_csv(url, index_col = 0)\n",
        "\n",
        "# Print out observation for Japan\n",
        "print(cars.loc['JPN'])\n",
        "cars.iloc[2]\n",
        "\n",
        "# Print out observations for Australia and Egypt\n",
        "cars.loc[['AUS','EG']]\n",
        "cars.iloc[[1,6]]\n"
      ],
      "metadata": {
        "id": "_wU11BPggHOr",
        "colab": {
          "base_uri": "https://localhost:8080/",
          "height": 185
        },
        "outputId": "7e6e57ff-743b-4dc3-fa8d-49f626040bc7"
      },
      "execution_count": 26,
      "outputs": [
        {
          "output_type": "stream",
          "name": "stdout",
          "text": [
            "cars_per_cap      588\n",
            "country         Japan\n",
            "drives_right    False\n",
            "Name: JPN, dtype: object\n"
          ]
        },
        {
          "output_type": "execute_result",
          "data": {
            "text/plain": [
              "     cars_per_cap    country  drives_right\n",
              "AUS           731  Australia         False\n",
              "EG             45      Egypt          True"
            ],
            "text/html": [
              "\n",
              "  <div id=\"df-84af1c08-72b9-490f-80b5-4f2005e4d495\">\n",
              "    <div class=\"colab-df-container\">\n",
              "      <div>\n",
              "<style scoped>\n",
              "    .dataframe tbody tr th:only-of-type {\n",
              "        vertical-align: middle;\n",
              "    }\n",
              "\n",
              "    .dataframe tbody tr th {\n",
              "        vertical-align: top;\n",
              "    }\n",
              "\n",
              "    .dataframe thead th {\n",
              "        text-align: right;\n",
              "    }\n",
              "</style>\n",
              "<table border=\"1\" class=\"dataframe\">\n",
              "  <thead>\n",
              "    <tr style=\"text-align: right;\">\n",
              "      <th></th>\n",
              "      <th>cars_per_cap</th>\n",
              "      <th>country</th>\n",
              "      <th>drives_right</th>\n",
              "    </tr>\n",
              "  </thead>\n",
              "  <tbody>\n",
              "    <tr>\n",
              "      <th>AUS</th>\n",
              "      <td>731</td>\n",
              "      <td>Australia</td>\n",
              "      <td>False</td>\n",
              "    </tr>\n",
              "    <tr>\n",
              "      <th>EG</th>\n",
              "      <td>45</td>\n",
              "      <td>Egypt</td>\n",
              "      <td>True</td>\n",
              "    </tr>\n",
              "  </tbody>\n",
              "</table>\n",
              "</div>\n",
              "      <button class=\"colab-df-convert\" onclick=\"convertToInteractive('df-84af1c08-72b9-490f-80b5-4f2005e4d495')\"\n",
              "              title=\"Convert this dataframe to an interactive table.\"\n",
              "              style=\"display:none;\">\n",
              "        \n",
              "  <svg xmlns=\"http://www.w3.org/2000/svg\" height=\"24px\"viewBox=\"0 0 24 24\"\n",
              "       width=\"24px\">\n",
              "    <path d=\"M0 0h24v24H0V0z\" fill=\"none\"/>\n",
              "    <path d=\"M18.56 5.44l.94 2.06.94-2.06 2.06-.94-2.06-.94-.94-2.06-.94 2.06-2.06.94zm-11 1L8.5 8.5l.94-2.06 2.06-.94-2.06-.94L8.5 2.5l-.94 2.06-2.06.94zm10 10l.94 2.06.94-2.06 2.06-.94-2.06-.94-.94-2.06-.94 2.06-2.06.94z\"/><path d=\"M17.41 7.96l-1.37-1.37c-.4-.4-.92-.59-1.43-.59-.52 0-1.04.2-1.43.59L10.3 9.45l-7.72 7.72c-.78.78-.78 2.05 0 2.83L4 21.41c.39.39.9.59 1.41.59.51 0 1.02-.2 1.41-.59l7.78-7.78 2.81-2.81c.8-.78.8-2.07 0-2.86zM5.41 20L4 18.59l7.72-7.72 1.47 1.35L5.41 20z\"/>\n",
              "  </svg>\n",
              "      </button>\n",
              "      \n",
              "  <style>\n",
              "    .colab-df-container {\n",
              "      display:flex;\n",
              "      flex-wrap:wrap;\n",
              "      gap: 12px;\n",
              "    }\n",
              "\n",
              "    .colab-df-convert {\n",
              "      background-color: #E8F0FE;\n",
              "      border: none;\n",
              "      border-radius: 50%;\n",
              "      cursor: pointer;\n",
              "      display: none;\n",
              "      fill: #1967D2;\n",
              "      height: 32px;\n",
              "      padding: 0 0 0 0;\n",
              "      width: 32px;\n",
              "    }\n",
              "\n",
              "    .colab-df-convert:hover {\n",
              "      background-color: #E2EBFA;\n",
              "      box-shadow: 0px 1px 2px rgba(60, 64, 67, 0.3), 0px 1px 3px 1px rgba(60, 64, 67, 0.15);\n",
              "      fill: #174EA6;\n",
              "    }\n",
              "\n",
              "    [theme=dark] .colab-df-convert {\n",
              "      background-color: #3B4455;\n",
              "      fill: #D2E3FC;\n",
              "    }\n",
              "\n",
              "    [theme=dark] .colab-df-convert:hover {\n",
              "      background-color: #434B5C;\n",
              "      box-shadow: 0px 1px 3px 1px rgba(0, 0, 0, 0.15);\n",
              "      filter: drop-shadow(0px 1px 2px rgba(0, 0, 0, 0.3));\n",
              "      fill: #FFFFFF;\n",
              "    }\n",
              "  </style>\n",
              "\n",
              "      <script>\n",
              "        const buttonEl =\n",
              "          document.querySelector('#df-84af1c08-72b9-490f-80b5-4f2005e4d495 button.colab-df-convert');\n",
              "        buttonEl.style.display =\n",
              "          google.colab.kernel.accessAllowed ? 'block' : 'none';\n",
              "\n",
              "        async function convertToInteractive(key) {\n",
              "          const element = document.querySelector('#df-84af1c08-72b9-490f-80b5-4f2005e4d495');\n",
              "          const dataTable =\n",
              "            await google.colab.kernel.invokeFunction('convertToInteractive',\n",
              "                                                     [key], {});\n",
              "          if (!dataTable) return;\n",
              "\n",
              "          const docLinkHtml = 'Like what you see? Visit the ' +\n",
              "            '<a target=\"_blank\" href=https://colab.research.google.com/notebooks/data_table.ipynb>data table notebook</a>'\n",
              "            + ' to learn more about interactive tables.';\n",
              "          element.innerHTML = '';\n",
              "          dataTable['output_type'] = 'display_data';\n",
              "          await google.colab.output.renderOutput(dataTable, element);\n",
              "          const docLink = document.createElement('div');\n",
              "          docLink.innerHTML = docLinkHtml;\n",
              "          element.appendChild(docLink);\n",
              "        }\n",
              "      </script>\n",
              "    </div>\n",
              "  </div>\n",
              "  "
            ]
          },
          "metadata": {},
          "execution_count": 26
        }
      ]
    },
    {
      "cell_type": "markdown",
      "source": [
        "### **Practice 14: loc and iloc (2)**\n",
        "\n",
        "**`loc`** and **`iloc`** also allow you to select both rows and columns from a DataFrame. To experiment, try out the following commands in the IPython Shell. Again, paired commands produce the same result.\n",
        "\n",
        "```\n",
        "cars.loc['IN', 'cars_per_cap']\n",
        "cars.iloc[3, 0]\n",
        "\n",
        "cars.loc[['IN', 'RU'], 'cars_per_cap']\n",
        "cars.iloc[[3, 4], 0]\n",
        "\n",
        "cars.loc[['IN', 'RU'], ['cars_per_cap', 'country']]\n",
        "cars.iloc[[3, 4], [0, 1]]\n",
        "```\n",
        "As before, code is included that imports the cars data as a Pandas DataFrame.\n",
        "\n",
        "### **Tasks:**\n",
        "\n",
        "* Print out the `drives_right` **value** of the row corresponding to Morocco (its row label is `MOR`). (Hint: use **single square** bracket to print out the value)\n",
        "* Print out a sub-DataFrame, containing the observations for Russia and Morocco and the columns `country` and `drives_right`. Pay attention, string values are **case sensitive**.  "
      ],
      "metadata": {
        "id": "MwPnSr8okV69"
      }
    },
    {
      "cell_type": "code",
      "source": [
        "url='https://raw.githubusercontent.com/mileslyp/MSDA649/main/cars.csv'\n",
        "\n",
        "# Import cars data\n",
        "import pandas as pd\n",
        "cars = pd.read_csv(url, index_col = 0)\n",
        "\n",
        "# Print out drives_right value of Morocco\n",
        "print(cars.loc['MOR','drives_right'])\n",
        "cars.iloc[5,2]\n",
        "\n",
        "# Print sub-DataFrame\n",
        "cars.loc[['RU','MOR'],['country','drives_right']]\n",
        "cars.iloc[[4,5],[1,2]]\n"
      ],
      "metadata": {
        "id": "XLmSB3ybk83u",
        "colab": {
          "base_uri": "https://localhost:8080/",
          "height": 130
        },
        "outputId": "d3545538-69b0-45fa-c507-6fbf57f6dc92"
      },
      "execution_count": 47,
      "outputs": [
        {
          "output_type": "stream",
          "name": "stdout",
          "text": [
            "True\n"
          ]
        },
        {
          "output_type": "execute_result",
          "data": {
            "text/plain": [
              "     country  drives_right\n",
              "RU    Russia          True\n",
              "MOR  Morocco          True"
            ],
            "text/html": [
              "\n",
              "  <div id=\"df-16928fbb-0409-438b-bfe0-a566c5524238\">\n",
              "    <div class=\"colab-df-container\">\n",
              "      <div>\n",
              "<style scoped>\n",
              "    .dataframe tbody tr th:only-of-type {\n",
              "        vertical-align: middle;\n",
              "    }\n",
              "\n",
              "    .dataframe tbody tr th {\n",
              "        vertical-align: top;\n",
              "    }\n",
              "\n",
              "    .dataframe thead th {\n",
              "        text-align: right;\n",
              "    }\n",
              "</style>\n",
              "<table border=\"1\" class=\"dataframe\">\n",
              "  <thead>\n",
              "    <tr style=\"text-align: right;\">\n",
              "      <th></th>\n",
              "      <th>country</th>\n",
              "      <th>drives_right</th>\n",
              "    </tr>\n",
              "  </thead>\n",
              "  <tbody>\n",
              "    <tr>\n",
              "      <th>RU</th>\n",
              "      <td>Russia</td>\n",
              "      <td>True</td>\n",
              "    </tr>\n",
              "    <tr>\n",
              "      <th>MOR</th>\n",
              "      <td>Morocco</td>\n",
              "      <td>True</td>\n",
              "    </tr>\n",
              "  </tbody>\n",
              "</table>\n",
              "</div>\n",
              "      <button class=\"colab-df-convert\" onclick=\"convertToInteractive('df-16928fbb-0409-438b-bfe0-a566c5524238')\"\n",
              "              title=\"Convert this dataframe to an interactive table.\"\n",
              "              style=\"display:none;\">\n",
              "        \n",
              "  <svg xmlns=\"http://www.w3.org/2000/svg\" height=\"24px\"viewBox=\"0 0 24 24\"\n",
              "       width=\"24px\">\n",
              "    <path d=\"M0 0h24v24H0V0z\" fill=\"none\"/>\n",
              "    <path d=\"M18.56 5.44l.94 2.06.94-2.06 2.06-.94-2.06-.94-.94-2.06-.94 2.06-2.06.94zm-11 1L8.5 8.5l.94-2.06 2.06-.94-2.06-.94L8.5 2.5l-.94 2.06-2.06.94zm10 10l.94 2.06.94-2.06 2.06-.94-2.06-.94-.94-2.06-.94 2.06-2.06.94z\"/><path d=\"M17.41 7.96l-1.37-1.37c-.4-.4-.92-.59-1.43-.59-.52 0-1.04.2-1.43.59L10.3 9.45l-7.72 7.72c-.78.78-.78 2.05 0 2.83L4 21.41c.39.39.9.59 1.41.59.51 0 1.02-.2 1.41-.59l7.78-7.78 2.81-2.81c.8-.78.8-2.07 0-2.86zM5.41 20L4 18.59l7.72-7.72 1.47 1.35L5.41 20z\"/>\n",
              "  </svg>\n",
              "      </button>\n",
              "      \n",
              "  <style>\n",
              "    .colab-df-container {\n",
              "      display:flex;\n",
              "      flex-wrap:wrap;\n",
              "      gap: 12px;\n",
              "    }\n",
              "\n",
              "    .colab-df-convert {\n",
              "      background-color: #E8F0FE;\n",
              "      border: none;\n",
              "      border-radius: 50%;\n",
              "      cursor: pointer;\n",
              "      display: none;\n",
              "      fill: #1967D2;\n",
              "      height: 32px;\n",
              "      padding: 0 0 0 0;\n",
              "      width: 32px;\n",
              "    }\n",
              "\n",
              "    .colab-df-convert:hover {\n",
              "      background-color: #E2EBFA;\n",
              "      box-shadow: 0px 1px 2px rgba(60, 64, 67, 0.3), 0px 1px 3px 1px rgba(60, 64, 67, 0.15);\n",
              "      fill: #174EA6;\n",
              "    }\n",
              "\n",
              "    [theme=dark] .colab-df-convert {\n",
              "      background-color: #3B4455;\n",
              "      fill: #D2E3FC;\n",
              "    }\n",
              "\n",
              "    [theme=dark] .colab-df-convert:hover {\n",
              "      background-color: #434B5C;\n",
              "      box-shadow: 0px 1px 3px 1px rgba(0, 0, 0, 0.15);\n",
              "      filter: drop-shadow(0px 1px 2px rgba(0, 0, 0, 0.3));\n",
              "      fill: #FFFFFF;\n",
              "    }\n",
              "  </style>\n",
              "\n",
              "      <script>\n",
              "        const buttonEl =\n",
              "          document.querySelector('#df-16928fbb-0409-438b-bfe0-a566c5524238 button.colab-df-convert');\n",
              "        buttonEl.style.display =\n",
              "          google.colab.kernel.accessAllowed ? 'block' : 'none';\n",
              "\n",
              "        async function convertToInteractive(key) {\n",
              "          const element = document.querySelector('#df-16928fbb-0409-438b-bfe0-a566c5524238');\n",
              "          const dataTable =\n",
              "            await google.colab.kernel.invokeFunction('convertToInteractive',\n",
              "                                                     [key], {});\n",
              "          if (!dataTable) return;\n",
              "\n",
              "          const docLinkHtml = 'Like what you see? Visit the ' +\n",
              "            '<a target=\"_blank\" href=https://colab.research.google.com/notebooks/data_table.ipynb>data table notebook</a>'\n",
              "            + ' to learn more about interactive tables.';\n",
              "          element.innerHTML = '';\n",
              "          dataTable['output_type'] = 'display_data';\n",
              "          await google.colab.output.renderOutput(dataTable, element);\n",
              "          const docLink = document.createElement('div');\n",
              "          docLink.innerHTML = docLinkHtml;\n",
              "          element.appendChild(docLink);\n",
              "        }\n",
              "      </script>\n",
              "    </div>\n",
              "  </div>\n",
              "  "
            ]
          },
          "metadata": {},
          "execution_count": 47
        }
      ]
    },
    {
      "cell_type": "markdown",
      "source": [
        "### **Practice 15: loc and iloc (3)**\n",
        "\n",
        "It's also possible to select only columns with **`loc`** and **`iloc`**. In both cases, you simply put a slice going from beginning to end in front of the comma:\n",
        "\n",
        "```\n",
        "cars.loc[:, 'country']\n",
        "cars.iloc[:, 1]\n",
        "\n",
        "cars.loc[:, ['country','drives_right']]\n",
        "cars.iloc[:, [1, 2]]\n",
        "```\n",
        "\n",
        "### **Tasks:**\n",
        "\n",
        "* Print out the `drives_right` column as a **Series** using **`loc`** or **`iloc`**.\n",
        "* Print out the `drives_right` column as a **DataFrame** using **`loc`** or **`iloc`**.  \n",
        "* Print out both the `cars_per_cap` and `drives_right` column as a DataFrame using **`loc`** or **`iloc`**.  "
      ],
      "metadata": {
        "id": "xNcnj71dmswE"
      }
    },
    {
      "cell_type": "code",
      "source": [
        "url='https://raw.githubusercontent.com/mileslyp/MSDA649/main/cars.csv'\n",
        "\n",
        "# Import cars data\n",
        "import pandas as pd\n",
        "cars = pd.read_csv(url, index_col = 0)\n",
        "\n",
        "# Print out drives_right column as Series\n",
        "cars.loc[:,'drives_right']\n",
        "\n",
        "# Print out drives_right column as DataFrame\n",
        "cars.iloc[:,[2]]\n",
        "\n",
        "# Print out cars_per_cap and drives_right column as DataFrame\n",
        "cars.loc[:,['cars_per_cap','drives_right']]\n"
      ],
      "metadata": {
        "id": "SRs2DP4YoZJA",
        "colab": {
          "base_uri": "https://localhost:8080/",
          "height": 269
        },
        "outputId": "bbac1854-f23b-47a8-a87b-a2a545c874df"
      },
      "execution_count": 65,
      "outputs": [
        {
          "output_type": "execute_result",
          "data": {
            "text/plain": [
              "     cars_per_cap  drives_right\n",
              "US            809          True\n",
              "AUS           731         False\n",
              "JPN           588         False\n",
              "IN             18         False\n",
              "RU            200          True\n",
              "MOR            70          True\n",
              "EG             45          True"
            ],
            "text/html": [
              "\n",
              "  <div id=\"df-5058836b-1f7c-42e5-8ed4-fd6a150f5d7e\">\n",
              "    <div class=\"colab-df-container\">\n",
              "      <div>\n",
              "<style scoped>\n",
              "    .dataframe tbody tr th:only-of-type {\n",
              "        vertical-align: middle;\n",
              "    }\n",
              "\n",
              "    .dataframe tbody tr th {\n",
              "        vertical-align: top;\n",
              "    }\n",
              "\n",
              "    .dataframe thead th {\n",
              "        text-align: right;\n",
              "    }\n",
              "</style>\n",
              "<table border=\"1\" class=\"dataframe\">\n",
              "  <thead>\n",
              "    <tr style=\"text-align: right;\">\n",
              "      <th></th>\n",
              "      <th>cars_per_cap</th>\n",
              "      <th>drives_right</th>\n",
              "    </tr>\n",
              "  </thead>\n",
              "  <tbody>\n",
              "    <tr>\n",
              "      <th>US</th>\n",
              "      <td>809</td>\n",
              "      <td>True</td>\n",
              "    </tr>\n",
              "    <tr>\n",
              "      <th>AUS</th>\n",
              "      <td>731</td>\n",
              "      <td>False</td>\n",
              "    </tr>\n",
              "    <tr>\n",
              "      <th>JPN</th>\n",
              "      <td>588</td>\n",
              "      <td>False</td>\n",
              "    </tr>\n",
              "    <tr>\n",
              "      <th>IN</th>\n",
              "      <td>18</td>\n",
              "      <td>False</td>\n",
              "    </tr>\n",
              "    <tr>\n",
              "      <th>RU</th>\n",
              "      <td>200</td>\n",
              "      <td>True</td>\n",
              "    </tr>\n",
              "    <tr>\n",
              "      <th>MOR</th>\n",
              "      <td>70</td>\n",
              "      <td>True</td>\n",
              "    </tr>\n",
              "    <tr>\n",
              "      <th>EG</th>\n",
              "      <td>45</td>\n",
              "      <td>True</td>\n",
              "    </tr>\n",
              "  </tbody>\n",
              "</table>\n",
              "</div>\n",
              "      <button class=\"colab-df-convert\" onclick=\"convertToInteractive('df-5058836b-1f7c-42e5-8ed4-fd6a150f5d7e')\"\n",
              "              title=\"Convert this dataframe to an interactive table.\"\n",
              "              style=\"display:none;\">\n",
              "        \n",
              "  <svg xmlns=\"http://www.w3.org/2000/svg\" height=\"24px\"viewBox=\"0 0 24 24\"\n",
              "       width=\"24px\">\n",
              "    <path d=\"M0 0h24v24H0V0z\" fill=\"none\"/>\n",
              "    <path d=\"M18.56 5.44l.94 2.06.94-2.06 2.06-.94-2.06-.94-.94-2.06-.94 2.06-2.06.94zm-11 1L8.5 8.5l.94-2.06 2.06-.94-2.06-.94L8.5 2.5l-.94 2.06-2.06.94zm10 10l.94 2.06.94-2.06 2.06-.94-2.06-.94-.94-2.06-.94 2.06-2.06.94z\"/><path d=\"M17.41 7.96l-1.37-1.37c-.4-.4-.92-.59-1.43-.59-.52 0-1.04.2-1.43.59L10.3 9.45l-7.72 7.72c-.78.78-.78 2.05 0 2.83L4 21.41c.39.39.9.59 1.41.59.51 0 1.02-.2 1.41-.59l7.78-7.78 2.81-2.81c.8-.78.8-2.07 0-2.86zM5.41 20L4 18.59l7.72-7.72 1.47 1.35L5.41 20z\"/>\n",
              "  </svg>\n",
              "      </button>\n",
              "      \n",
              "  <style>\n",
              "    .colab-df-container {\n",
              "      display:flex;\n",
              "      flex-wrap:wrap;\n",
              "      gap: 12px;\n",
              "    }\n",
              "\n",
              "    .colab-df-convert {\n",
              "      background-color: #E8F0FE;\n",
              "      border: none;\n",
              "      border-radius: 50%;\n",
              "      cursor: pointer;\n",
              "      display: none;\n",
              "      fill: #1967D2;\n",
              "      height: 32px;\n",
              "      padding: 0 0 0 0;\n",
              "      width: 32px;\n",
              "    }\n",
              "\n",
              "    .colab-df-convert:hover {\n",
              "      background-color: #E2EBFA;\n",
              "      box-shadow: 0px 1px 2px rgba(60, 64, 67, 0.3), 0px 1px 3px 1px rgba(60, 64, 67, 0.15);\n",
              "      fill: #174EA6;\n",
              "    }\n",
              "\n",
              "    [theme=dark] .colab-df-convert {\n",
              "      background-color: #3B4455;\n",
              "      fill: #D2E3FC;\n",
              "    }\n",
              "\n",
              "    [theme=dark] .colab-df-convert:hover {\n",
              "      background-color: #434B5C;\n",
              "      box-shadow: 0px 1px 3px 1px rgba(0, 0, 0, 0.15);\n",
              "      filter: drop-shadow(0px 1px 2px rgba(0, 0, 0, 0.3));\n",
              "      fill: #FFFFFF;\n",
              "    }\n",
              "  </style>\n",
              "\n",
              "      <script>\n",
              "        const buttonEl =\n",
              "          document.querySelector('#df-5058836b-1f7c-42e5-8ed4-fd6a150f5d7e button.colab-df-convert');\n",
              "        buttonEl.style.display =\n",
              "          google.colab.kernel.accessAllowed ? 'block' : 'none';\n",
              "\n",
              "        async function convertToInteractive(key) {\n",
              "          const element = document.querySelector('#df-5058836b-1f7c-42e5-8ed4-fd6a150f5d7e');\n",
              "          const dataTable =\n",
              "            await google.colab.kernel.invokeFunction('convertToInteractive',\n",
              "                                                     [key], {});\n",
              "          if (!dataTable) return;\n",
              "\n",
              "          const docLinkHtml = 'Like what you see? Visit the ' +\n",
              "            '<a target=\"_blank\" href=https://colab.research.google.com/notebooks/data_table.ipynb>data table notebook</a>'\n",
              "            + ' to learn more about interactive tables.';\n",
              "          element.innerHTML = '';\n",
              "          dataTable['output_type'] = 'display_data';\n",
              "          await google.colab.output.renderOutput(dataTable, element);\n",
              "          const docLink = document.createElement('div');\n",
              "          docLink.innerHTML = docLinkHtml;\n",
              "          element.appendChild(docLink);\n",
              "        }\n",
              "      </script>\n",
              "    </div>\n",
              "  </div>\n",
              "  "
            ]
          },
          "metadata": {},
          "execution_count": 65
        }
      ]
    },
    {
      "cell_type": "code",
      "source": [],
      "metadata": {
        "id": "hMNsH_dLcoJB"
      },
      "execution_count": null,
      "outputs": []
    }
  ]
}